{
 "cells": [
  {
   "cell_type": "code",
   "execution_count": null,
   "metadata": {},
   "outputs": [
    {
     "name": "stdout",
     "output_type": "stream",
     "text": [
      "16\n",
      "['1', '2', '3', '4', '5', '6', '7', '8', '9', '10', '11', '12', '13', '14', None, None]\n",
      "['0', '0', '1', '0', '0', '1', '2', '0', '0', '1', '0', '0', '1', '0', None, None]\n",
      "['808', '1580', '2104', '3038', '3802', '4324', '4734', '5404', '6052', '6578', '7478', '8232', '8756', '9688', None, None]\n",
      "1000\n",
      "80.0\n",
      "158.0\n",
      "210.0\n",
      "303.0\n",
      "380.0\n",
      "432.0\n",
      "473.0\n",
      "540.0\n",
      "605.0\n",
      "657.0\n",
      "747.0\n",
      "823.0\n",
      "875.0\n",
      "968.0\n"
     ]
    }
   ],
   "source": [
    "from PIL import Image\n",
    "import pdb\n",
    "import numpy as np\n",
    "import cv2\n",
    "import matplotlib.pyplot as plt\n",
    "import xml.etree.ElementTree as ET\n",
    "\n",
    "\n",
    "file_location = 'D:\\\\patient data\\\\12287824 - LV anteroapical - PVC RBBB. LBBB\\\\17-DEC-2010-09.17.23 PVC RBBB\\\\'\n",
    "\n",
    "image = cv2.imread(file_location + 'V1.jpg')\n",
    "\n",
    "\n",
    "doc = ET.parse(file_location + 'MUSE_20200206_153233_59000.xml')\n",
    "root = doc.getroot()\n",
    "QRS = root.find(\"QRSTimesTypes\")\n",
    "\n",
    "print(len(QRS))\n",
    "\n",
    "QRS_number = [x.findtext(\"Number\") for x in QRS]\n",
    "QRS_type = [x.findtext(\"Type\") for x in QRS]\n",
    "QRS_time = [x.findtext(\"Time\") for x in QRS]\n",
    "\n",
    "print(QRS_number)\n",
    "print(QRS_type)\n",
    "print(QRS_time)\n",
    "\n",
    "subimg = image[50:585, 115:793]\n",
    "\n",
    "dst = cv2.resize(subimg, dsize=(1000, 500), interpolation=cv2.INTER_AREA)\n",
    "height, width, channel = dst.shape\n",
    "print(width)\n",
    "\n",
    "for i in range(len(QRS_time)-2):\n",
    "    x_pos = int(QRS_time[i])//(10000/width)\n",
    "    print(x_pos)\n",
    "    cv2.circle(dst, (int(x_pos),250),2,(0,0,255), 1)\n",
    "\n",
    "    \n",
    "\n",
    "cv2.imshow('1',dst)\n",
    "\n",
    "cv2.waitKey(0)\n",
    "cv2.destroyAllWindows()"
   ]
  },
  {
   "cell_type": "code",
   "execution_count": null,
   "metadata": {},
   "outputs": [],
   "source": []
  },
  {
   "cell_type": "code",
   "execution_count": null,
   "metadata": {},
   "outputs": [],
   "source": []
  }
 ],
 "metadata": {
  "kernelspec": {
   "display_name": "Python 3",
   "language": "python",
   "name": "python3"
  },
  "language_info": {
   "codemirror_mode": {
    "name": "ipython",
    "version": 3
   },
   "file_extension": ".py",
   "mimetype": "text/x-python",
   "name": "python",
   "nbconvert_exporter": "python",
   "pygments_lexer": "ipython3",
   "version": "3.7.6"
  }
 },
 "nbformat": 4,
 "nbformat_minor": 4
}
